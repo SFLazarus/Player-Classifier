{
 "cells": [
  {
   "cell_type": "markdown",
   "metadata": {},
   "source": [
    "# To be, or not to be\n",
    "- EECS 731 Project 2\n",
    "- Author: Lazarus\n",
    "- ID : 3028051\n",
    " \n",
    "## Problem Statement\n",
    "### Classy Shakespeare plays and players\n",
    "- Set up a data science project structure in a new git repository in your GitHub account\n",
    "- Download the Shakespeare plays dataset from https://www.kaggle.com/kingburrito666/shakespeare-plays\n",
    "- Load the data set into panda data frames\n",
    "- Formulate one or two ideas on how feature engineering would help the data set to establish additional value using exploratory data analysis\n",
    "- Build one or more classification models to determine the player using the other columns as features\n",
    "- Document your process and results\n",
    "- Commit your notebook, source code, visualizations and other supporting files to the git repository in GitHub\n",
    "\n",
    "## Data Description\n",
    "\n",
    "###### This is a dataset comprised of all of Shakespeare's plays. It includes the following:\n",
    "\n",
    "- The first column is the Data-Line, it just keeps track of all the rows there are.\n",
    "- The second column is the play that the lines are from.\n",
    "- The third column is the actual line being spoken at any given time.\n",
    "- The fourth column is the Act-Scene-Line from which any given line is from.\n",
    "- The fifth column is the player who is saying any given line.\n",
    "- The sixth column is the line being spoken.\n",
    "\n",
    "## What we want to do?\n",
    "- Main goal: to use different Classification model to determine Player.\n",
    "- First we shall go through dataset and understand what features can we use to maximize our accuracy of classifying\n",
    "\n",
    "## Step 1: Lets prepare working environment\n",
    "- Import all libraries required in the initial stage for data exploration and feature engineering\n",
    "- Loading data from csv to a pandas dataframe"
   ]
  },
  {
   "cell_type": "code",
   "execution_count": 1,
   "metadata": {},
   "outputs": [],
   "source": [
    "import numpy as np\n",
    "import pandas as pd\n",
    "import matplotlib.pyplot as plt\n",
    "import seaborn as sns"
   ]
  },
  {
   "cell_type": "code",
   "execution_count": 2,
   "metadata": {},
   "outputs": [
    {
     "data": {
      "text/html": [
       "<div>\n",
       "<style scoped>\n",
       "    .dataframe tbody tr th:only-of-type {\n",
       "        vertical-align: middle;\n",
       "    }\n",
       "\n",
       "    .dataframe tbody tr th {\n",
       "        vertical-align: top;\n",
       "    }\n",
       "\n",
       "    .dataframe thead th {\n",
       "        text-align: right;\n",
       "    }\n",
       "</style>\n",
       "<table border=\"1\" class=\"dataframe\">\n",
       "  <thead>\n",
       "    <tr style=\"text-align: right;\">\n",
       "      <th></th>\n",
       "      <th>Dataline</th>\n",
       "      <th>Play</th>\n",
       "      <th>PlayerLinenumber</th>\n",
       "      <th>ActSceneLine</th>\n",
       "      <th>Player</th>\n",
       "      <th>PlayerLine</th>\n",
       "    </tr>\n",
       "  </thead>\n",
       "  <tbody>\n",
       "    <tr>\n",
       "      <th>111391</th>\n",
       "      <td>111392</td>\n",
       "      <td>A Winters Tale</td>\n",
       "      <td>38.0</td>\n",
       "      <td>5.3.180</td>\n",
       "      <td>LEONTES</td>\n",
       "      <td>Lead us from hence, where we may leisurely</td>\n",
       "    </tr>\n",
       "    <tr>\n",
       "      <th>111392</th>\n",
       "      <td>111393</td>\n",
       "      <td>A Winters Tale</td>\n",
       "      <td>38.0</td>\n",
       "      <td>5.3.181</td>\n",
       "      <td>LEONTES</td>\n",
       "      <td>Each one demand an answer to his part</td>\n",
       "    </tr>\n",
       "    <tr>\n",
       "      <th>111393</th>\n",
       "      <td>111394</td>\n",
       "      <td>A Winters Tale</td>\n",
       "      <td>38.0</td>\n",
       "      <td>5.3.182</td>\n",
       "      <td>LEONTES</td>\n",
       "      <td>Perform'd in this wide gap of time since first</td>\n",
       "    </tr>\n",
       "    <tr>\n",
       "      <th>111394</th>\n",
       "      <td>111395</td>\n",
       "      <td>A Winters Tale</td>\n",
       "      <td>38.0</td>\n",
       "      <td>5.3.183</td>\n",
       "      <td>LEONTES</td>\n",
       "      <td>We were dissever'd: hastily lead away.</td>\n",
       "    </tr>\n",
       "    <tr>\n",
       "      <th>111395</th>\n",
       "      <td>111396</td>\n",
       "      <td>A Winters Tale</td>\n",
       "      <td>38.0</td>\n",
       "      <td>NaN</td>\n",
       "      <td>LEONTES</td>\n",
       "      <td>Exeunt</td>\n",
       "    </tr>\n",
       "  </tbody>\n",
       "</table>\n",
       "</div>"
      ],
      "text/plain": [
       "        Dataline            Play  PlayerLinenumber ActSceneLine   Player  \\\n",
       "111391    111392  A Winters Tale              38.0      5.3.180  LEONTES   \n",
       "111392    111393  A Winters Tale              38.0      5.3.181  LEONTES   \n",
       "111393    111394  A Winters Tale              38.0      5.3.182  LEONTES   \n",
       "111394    111395  A Winters Tale              38.0      5.3.183  LEONTES   \n",
       "111395    111396  A Winters Tale              38.0          NaN  LEONTES   \n",
       "\n",
       "                                            PlayerLine  \n",
       "111391      Lead us from hence, where we may leisurely  \n",
       "111392           Each one demand an answer to his part  \n",
       "111393  Perform'd in this wide gap of time since first  \n",
       "111394          We were dissever'd: hastily lead away.  \n",
       "111395                                          Exeunt  "
      ]
     },
     "execution_count": 2,
     "metadata": {},
     "output_type": "execute_result"
    }
   ],
   "source": [
    "data=pd.read_csv(\"../data/Shakespeare_data.csv\")\n",
    "data.tail(5)"
   ]
  },
  {
   "cell_type": "markdown",
   "metadata": {},
   "source": [
    "## Step 2: Treating missing values\n",
    "\n",
    "- Removed all attributes with incomplete data"
   ]
  },
  {
   "cell_type": "code",
   "execution_count": 3,
   "metadata": {},
   "outputs": [
    {
     "name": "stdout",
     "output_type": "stream",
     "text": [
      "::::::::before:::::::::::\n",
      "Dataline               0\n",
      "Play                   0\n",
      "PlayerLinenumber       3\n",
      "ActSceneLine        6243\n",
      "Player                 7\n",
      "PlayerLine             0\n",
      "dtype: int64\n",
      "::::::::after::::::::::::\n",
      "Dataline            0\n",
      "Play                0\n",
      "PlayerLinenumber    0\n",
      "ActSceneLine        0\n",
      "Player              0\n",
      "PlayerLine          0\n",
      "dtype: int64\n"
     ]
    }
   ],
   "source": [
    "print(\"::::::::before:::::::::::\")\n",
    "print(data.isnull().sum())\n",
    "data=data.dropna()\n",
    "print(\"::::::::after::::::::::::\")\n",
    "print(data.isnull().sum())"
   ]
  },
  {
   "cell_type": "markdown",
   "metadata": {},
   "source": [
    "## Step 3: Data Exploration\n",
    "\n",
    "#### Let's find how many plays and how many players we are dealing with:"
   ]
  },
  {
   "cell_type": "code",
   "execution_count": 4,
   "metadata": {},
   "outputs": [
    {
     "name": "stdout",
     "output_type": "stream",
     "text": [
      "Total number of plays are: 36\n",
      "Total number of players are: 934\n"
     ]
    }
   ],
   "source": [
    "print(\"Total number of plays are: \" + str(data['Play'].nunique()))\n",
    "print(\"Total number of players are: \" + str(data['Player'].nunique()))"
   ]
  },
  {
   "cell_type": "markdown",
   "metadata": {},
   "source": [
    "- So our model should classify these 934 players from 36 plays'\n",
    "#### Let's check how many players each play has:"
   ]
  },
  {
   "cell_type": "code",
   "execution_count": 5,
   "metadata": {},
   "outputs": [
    {
     "name": "stdout",
     "output_type": "stream",
     "text": [
      "    Num Players                      Play\n",
      "0            70               Richard III\n",
      "1            65           Henry VI Part 2\n",
      "2            61                Coriolanus\n",
      "3            55           Timon of Athens\n",
      "4            54      Antony and Cleopatra\n",
      "5            52           Henry VI Part 1\n",
      "6            50             Julius Caesar\n",
      "7            48                  Pericles\n",
      "8            47                Henry VIII\n",
      "9            47                   Henry V\n",
      "10           46           Henry VI Part 3\n",
      "11           41                   macbeth\n",
      "12           40                 Cymbeline\n",
      "13           37          Romeo and Juliet\n",
      "14           37       Taming of the Shrew\n",
      "15           36                Richard II\n",
      "16           35                  Henry IV\n",
      "17           35            A Winters Tale\n",
      "18           34                    Hamlet\n",
      "19           30  A Midsummer nights dream\n",
      "20           29                 King John\n",
      "21           29      Troilus and Cressida\n",
      "22           28                   Othello\n",
      "23           27            As you like it\n",
      "24           27          Titus Andronicus\n",
      "25           26                 King Lear\n",
      "26           25       Measure for measure\n",
      "27           25  Alls well that ends well\n",
      "28           24    Merry Wives of Windsor\n",
      "29           24    Much Ado about nothing\n",
      "30           23        Merchant of Venice\n",
      "31           20        Loves Labours Lost\n",
      "32           20               The Tempest\n",
      "33           20        A Comedy of Errors\n",
      "34           18             Twelfth Night\n",
      "35           17   Two Gentlemen of Verona\n"
     ]
    }
   ],
   "source": [
    "numberPlayers = data.groupby(['Play'])['Player'].nunique().sort_values(ascending= False).to_frame()\n",
    "numberPlayers['Play'] = numberPlayers.index.tolist()\n",
    "numberPlayers.columns = ['Num Players','Play']\n",
    "numberPlayers.index= np.arange(0,len(numberPlayers))\n",
    "print(numberPlayers)"
   ]
  },
  {
   "cell_type": "markdown",
   "metadata": {},
   "source": [
    "#### Visualising above data to understand better"
   ]
  },
  {
   "cell_type": "code",
   "execution_count": 6,
   "metadata": {},
   "outputs": [
    {
     "data": {
      "image/png": "[encoded data removed]",
      "text/plain": [
       "<Figure size 720x720 with 1 Axes>"
      ]
     },
     "metadata": {
      "needs_background": "light"
     },
     "output_type": "display_data"
    }
   ],
   "source": [
    "plt.figure(figsize=(10,10))\n",
    "ax = sns.barplot(x='Num Players',y='Play',data=numberPlayers)\n",
    "ax.set(xlabel='Number of Players', ylabel='Play Name')\n",
    "plt.show()"
   ]
  },
  {
   "cell_type": "markdown",
   "metadata": {},
   "source": [
    "- Every play has atleast 15 players.\n",
    "- Some of them have above 50 players too.\n",
    "\n",
    "#### Let's check  how many attributes of data we have for every play"
   ]
  },
  {
   "cell_type": "code",
   "execution_count": 7,
   "metadata": {},
   "outputs": [
    {
     "data": {
      "text/plain": [
       "Hamlet                      4020\n",
       "Coriolanus                  3768\n",
       "Cymbeline                   3756\n",
       "Richard III                 3705\n",
       "Antony and Cleopatra        3565\n",
       "Othello                     3563\n",
       "King Lear                   3500\n",
       "Troilus and Cressida        3491\n",
       "A Winters Tale              3364\n",
       "Henry VIII                  3279\n",
       "Henry V                     3233\n",
       "Henry VI Part 2             3130\n",
       "Romeo and Juliet            3096\n",
       "Henry IV                    3044\n",
       "Henry VI Part 3             2939\n",
       "Alls well that ends well    2925\n",
       "Loves Labours Lost          2878\n",
       "Measure for measure         2840\n",
       "Richard II                  2800\n",
       "Henry VI Part 1             2777\n",
       "As you like it              2677\n",
       "Merchant of Venice          2665\n",
       "King John                   2649\n",
       "Taming of the Shrew         2637\n",
       "Merry Wives of Windsor      2614\n",
       "Julius Caesar               2597\n",
       "Much Ado about nothing      2584\n",
       "Titus Andronicus            2559\n",
       "Timon of Athens             2500\n",
       "Twelfth Night               2483\n",
       "Pericles                    2472\n",
       "macbeth                     2390\n",
       "The Tempest                 2289\n",
       "Two Gentlemen of Verona     2234\n",
       "A Midsummer nights dream    2162\n",
       "A Comedy of Errors          1967\n",
       "Name: Play, dtype: int64"
      ]
     },
     "execution_count": 7,
     "metadata": {},
     "output_type": "execute_result"
    }
   ],
   "source": [
    "Play_Count =data['Play'].value_counts()\n",
    "Play_Count"
   ]
  },
  {
   "cell_type": "markdown",
   "metadata": {},
   "source": [
    "#### Visualizing above data to understand better"
   ]
  },
  {
   "cell_type": "code",
   "execution_count": 8,
   "metadata": {},
   "outputs": [
    {
     "data": {
      "text/plain": [
       "<matplotlib.axes._subplots.AxesSubplot at 0x2119ff04908>"
      ]
     },
     "execution_count": 8,
     "metadata": {},
     "output_type": "execute_result"
    },
    {
     "data": {
      "image/png": "[encoded data removed]",
      "text/plain": [
       "<Figure size 576x720 with 1 Axes>"
      ]
     },
     "metadata": {
      "needs_background": "light"
     },
     "output_type": "display_data"
    }
   ],
   "source": [
    "Play_Count.plot(kind='barh',label='Play Count',figsize=(8,10))"
   ]
  },
  {
   "cell_type": "markdown",
   "metadata": {},
   "source": [
    "- It's good that we have atleast 1500 attributes for every play because more data implies more accuracy for classification models.\n",
    "\n",
    "#### Let's also check how many attributes of data we have for every player"
   ]
  },
  {
   "cell_type": "code",
   "execution_count": 9,
   "metadata": {},
   "outputs": [
    {
     "data": {
      "text/plain": [
       "GLOUCESTER          1811\n",
       "HAMLET              1503\n",
       "IAGO                1101\n",
       "FALSTAFF            1053\n",
       "KING HENRY V        1029\n",
       "BRUTUS               976\n",
       "OTHELLO              888\n",
       "KING HENRY VI        871\n",
       "DUKE VINCENTIO       858\n",
       "MARK ANTONY          849\n",
       "TIMON                824\n",
       "QUEEN MARGARET       814\n",
       "Clown                761\n",
       "KING RICHARD II      758\n",
       "KING LEAR            753\n",
       "TITUS ANDRONICUS     725\n",
       "MACBETH              718\n",
       "HELENA               702\n",
       "PROSPERO             699\n",
       "YORK                 694\n",
       "LEONTES              693\n",
       "CLEOPATRA            689\n",
       "CORIOLANUS           681\n",
       "PORTIA               681\n",
       "ROSALIND             677\n",
       "WARWICK              648\n",
       "BUCKINGHAM           633\n",
       "BIRON                624\n",
       "ROMEO                613\n",
       "PERICLES             611\n",
       "Name: Player, dtype: int64"
      ]
     },
     "execution_count": 9,
     "metadata": {},
     "output_type": "execute_result"
    }
   ],
   "source": [
    "Player_Count =data['Player'].value_counts()[:30]\n",
    "Player_Count"
   ]
  },
  {
   "cell_type": "markdown",
   "metadata": {},
   "source": [
    "#### Visualizing above data to understand better"
   ]
  },
  {
   "cell_type": "code",
   "execution_count": 10,
   "metadata": {},
   "outputs": [
    {
     "data": {
      "text/plain": [
       "<matplotlib.axes._subplots.AxesSubplot at 0x211a000a6c8>"
      ]
     },
     "execution_count": 10,
     "metadata": {},
     "output_type": "execute_result"
    },
    {
     "data": {
      "image/png": "[encoded data removed]",
      "text/plain": [
       "<Figure size 576x720 with 1 Axes>"
      ]
     },
     "metadata": {
      "needs_background": "light"
     },
     "output_type": "display_data"
    }
   ],
   "source": [
    "Player_Count.plot(kind='barh',label='Player Count Top 30',figsize=(8,10))"
   ]
  },
  {
   "cell_type": "markdown",
   "metadata": {},
   "source": [
    "- Its good that we have at least 500 attributes for each player.\n",
    "- Looking at the size of data we can expect an accuracy of 80% with some good machine learning classification models.\n",
    "\n",
    "#### Let's check data types of features and count of attributes"
   ]
  },
  {
   "cell_type": "code",
   "execution_count": 11,
   "metadata": {},
   "outputs": [
    {
     "name": "stdout",
     "output_type": "stream",
     "text": [
      "<class 'pandas.core.frame.DataFrame'>\n",
      "Int64Index: 105152 entries, 3 to 111394\n",
      "Data columns (total 6 columns):\n",
      " #   Column            Non-Null Count   Dtype  \n",
      "---  ------            --------------   -----  \n",
      " 0   Dataline          105152 non-null  int64  \n",
      " 1   Play              105152 non-null  object \n",
      " 2   PlayerLinenumber  105152 non-null  float64\n",
      " 3   ActSceneLine      105152 non-null  object \n",
      " 4   Player            105152 non-null  object \n",
      " 5   PlayerLine        105152 non-null  object \n",
      "dtypes: float64(1), int64(1), object(4)\n",
      "memory usage: 5.6+ MB\n",
      "None\n"
     ]
    }
   ],
   "source": [
    "print(data.info())"
   ]
  },
  {
   "cell_type": "markdown",
   "metadata": {},
   "source": [
    "## Step 4: Feature Engineering\n",
    "\n",
    "- Let's remove dataline feature which is just like an index for attributes.\n",
    "- ActSceneLine is another feature which we have to extract into 3 individual features- Act, Scene, Line.\n",
    "- Then we can remove the ActSceneLine feature.\n",
    "- Also for now, it would be better not to use PlayerLine feature, this is a feature which can be experimented on in future, to improve our classification much more accurately and meaningfully."
   ]
  },
  {
   "cell_type": "code",
   "execution_count": 12,
   "metadata": {},
   "outputs": [
    {
     "name": "stdout",
     "output_type": "stream",
     "text": [
      "        Play  PlayerLinenumber ActSceneLine         Player  \\\n",
      "3   Henry IV               1.0        1.1.1  KING HENRY IV   \n",
      "4   Henry IV               1.0        1.1.2  KING HENRY IV   \n",
      "5   Henry IV               1.0        1.1.3  KING HENRY IV   \n",
      "6   Henry IV               1.0        1.1.4  KING HENRY IV   \n",
      "7   Henry IV               1.0        1.1.5  KING HENRY IV   \n",
      "8   Henry IV               1.0        1.1.6  KING HENRY IV   \n",
      "9   Henry IV               1.0        1.1.7  KING HENRY IV   \n",
      "10  Henry IV               1.0        1.1.8  KING HENRY IV   \n",
      "11  Henry IV               1.0        1.1.9  KING HENRY IV   \n",
      "12  Henry IV               1.0       1.1.10  KING HENRY IV   \n",
      "\n",
      "                                           PlayerLine act scene line  \n",
      "3              So shaken as we are, so wan with care,   1     1    1  \n",
      "4          Find we a time for frighted peace to pant,   1     1    2  \n",
      "5      And breathe short-winded accents of new broils   1     1    3  \n",
      "6             To be commenced in strands afar remote.   1     1    4  \n",
      "7           No more the thirsty entrance of this soil   1     1    5  \n",
      "8   Shall daub her lips with her own children's bl...   1     1    6  \n",
      "9    Nor more shall trenching war channel her fields,   1     1    7  \n",
      "10      Nor bruise her flowerets with the armed hoofs   1     1    8  \n",
      "11              Of hostile paces: those opposed eyes,   1     1    9  \n",
      "12      Which, like the meteors of a troubled heaven,   1     1   10  \n"
     ]
    }
   ],
   "source": [
    "transformed_data= data.drop('Dataline',axis=1)\n",
    "\n",
    "asl=transformed_data['ActSceneLine'].str.split('.',n=-1,expand=True) # We are going to split act scene and line\n",
    "\n",
    "transformed_data['act']=asl[0]\n",
    "transformed_data['scene']=asl[1]\n",
    "transformed_data['line']=asl[2]\n",
    "print(transformed_data.head(10))\n",
    "transformed_data=transformed_data.drop(['ActSceneLine'],axis=1)\n",
    "noplayerline_transformed_data=transformed_data.drop(['PlayerLine'],axis=1)\n"
   ]
  },
  {
   "cell_type": "markdown",
   "metadata": {},
   "source": [
    "#### Let's use Label Encoder to convert Categorical Features- Play and Player to Numeric. "
   ]
  },
  {
   "cell_type": "code",
   "execution_count": 13,
   "metadata": {},
   "outputs": [],
   "source": [
    "from sklearn.preprocessing import LabelEncoder\n",
    "le=LabelEncoder()"
   ]
  },
  {
   "cell_type": "code",
   "execution_count": 14,
   "metadata": {},
   "outputs": [
    {
     "data": {
      "text/html": [
       "<div>\n",
       "<style scoped>\n",
       "    .dataframe tbody tr th:only-of-type {\n",
       "        vertical-align: middle;\n",
       "    }\n",
       "\n",
       "    .dataframe tbody tr th {\n",
       "        vertical-align: top;\n",
       "    }\n",
       "\n",
       "    .dataframe thead th {\n",
       "        text-align: right;\n",
       "    }\n",
       "</style>\n",
       "<table border=\"1\" class=\"dataframe\">\n",
       "  <thead>\n",
       "    <tr style=\"text-align: right;\">\n",
       "      <th></th>\n",
       "      <th>Play</th>\n",
       "      <th>PlayerLinenumber</th>\n",
       "      <th>Player</th>\n",
       "      <th>act</th>\n",
       "      <th>scene</th>\n",
       "      <th>line</th>\n",
       "    </tr>\n",
       "  </thead>\n",
       "  <tbody>\n",
       "    <tr>\n",
       "      <th>111390</th>\n",
       "      <td>2</td>\n",
       "      <td>38.0</td>\n",
       "      <td>494</td>\n",
       "      <td>5</td>\n",
       "      <td>3</td>\n",
       "      <td>179</td>\n",
       "    </tr>\n",
       "    <tr>\n",
       "      <th>111391</th>\n",
       "      <td>2</td>\n",
       "      <td>38.0</td>\n",
       "      <td>494</td>\n",
       "      <td>5</td>\n",
       "      <td>3</td>\n",
       "      <td>180</td>\n",
       "    </tr>\n",
       "    <tr>\n",
       "      <th>111392</th>\n",
       "      <td>2</td>\n",
       "      <td>38.0</td>\n",
       "      <td>494</td>\n",
       "      <td>5</td>\n",
       "      <td>3</td>\n",
       "      <td>181</td>\n",
       "    </tr>\n",
       "    <tr>\n",
       "      <th>111393</th>\n",
       "      <td>2</td>\n",
       "      <td>38.0</td>\n",
       "      <td>494</td>\n",
       "      <td>5</td>\n",
       "      <td>3</td>\n",
       "      <td>182</td>\n",
       "    </tr>\n",
       "    <tr>\n",
       "      <th>111394</th>\n",
       "      <td>2</td>\n",
       "      <td>38.0</td>\n",
       "      <td>494</td>\n",
       "      <td>5</td>\n",
       "      <td>3</td>\n",
       "      <td>183</td>\n",
       "    </tr>\n",
       "  </tbody>\n",
       "</table>\n",
       "</div>"
      ],
      "text/plain": [
       "        Play  PlayerLinenumber  Player act scene line\n",
       "111390     2              38.0     494   5     3  179\n",
       "111391     2              38.0     494   5     3  180\n",
       "111392     2              38.0     494   5     3  181\n",
       "111393     2              38.0     494   5     3  182\n",
       "111394     2              38.0     494   5     3  183"
      ]
     },
     "execution_count": 14,
     "metadata": {},
     "output_type": "execute_result"
    }
   ],
   "source": [
    "noplayerline_transformed_data['Player']=le.fit_transform(noplayerline_transformed_data['Player'].astype('str'))\n",
    "noplayerline_transformed_data['Play']=le.fit_transform(noplayerline_transformed_data['Play'].astype('str'))\n",
    "noplayerline_transformed_data.tail(5)"
   ]
  },
  {
   "cell_type": "markdown",
   "metadata": {},
   "source": [
    "## Step 5: Player Classification\n",
    "\n",
    "#### Lets shuffle attributes of dataset before training ML models"
   ]
  },
  {
   "cell_type": "code",
   "execution_count": 15,
   "metadata": {},
   "outputs": [
    {
     "data": {
      "text/html": [
       "<div>\n",
       "<style scoped>\n",
       "    .dataframe tbody tr th:only-of-type {\n",
       "        vertical-align: middle;\n",
       "    }\n",
       "\n",
       "    .dataframe tbody tr th {\n",
       "        vertical-align: top;\n",
       "    }\n",
       "\n",
       "    .dataframe thead th {\n",
       "        text-align: right;\n",
       "    }\n",
       "</style>\n",
       "<table border=\"1\" class=\"dataframe\">\n",
       "  <thead>\n",
       "    <tr style=\"text-align: right;\">\n",
       "      <th></th>\n",
       "      <th>Play</th>\n",
       "      <th>PlayerLinenumber</th>\n",
       "      <th>Player</th>\n",
       "      <th>act</th>\n",
       "      <th>scene</th>\n",
       "      <th>line</th>\n",
       "    </tr>\n",
       "  </thead>\n",
       "  <tbody>\n",
       "    <tr>\n",
       "      <th>0</th>\n",
       "      <td>2</td>\n",
       "      <td>46.0</td>\n",
       "      <td>313</td>\n",
       "      <td>2</td>\n",
       "      <td>3</td>\n",
       "      <td>185</td>\n",
       "    </tr>\n",
       "    <tr>\n",
       "      <th>1</th>\n",
       "      <td>9</td>\n",
       "      <td>6.0</td>\n",
       "      <td>663</td>\n",
       "      <td>3</td>\n",
       "      <td>2</td>\n",
       "      <td>141</td>\n",
       "    </tr>\n",
       "    <tr>\n",
       "      <th>2</th>\n",
       "      <td>3</td>\n",
       "      <td>29.0</td>\n",
       "      <td>313</td>\n",
       "      <td>3</td>\n",
       "      <td>6</td>\n",
       "      <td>87</td>\n",
       "    </tr>\n",
       "    <tr>\n",
       "      <th>3</th>\n",
       "      <td>12</td>\n",
       "      <td>2.0</td>\n",
       "      <td>459</td>\n",
       "      <td>2</td>\n",
       "      <td>1</td>\n",
       "      <td>5</td>\n",
       "    </tr>\n",
       "    <tr>\n",
       "      <th>4</th>\n",
       "      <td>11</td>\n",
       "      <td>13.0</td>\n",
       "      <td>911</td>\n",
       "      <td>5</td>\n",
       "      <td>4</td>\n",
       "      <td>58</td>\n",
       "    </tr>\n",
       "  </tbody>\n",
       "</table>\n",
       "</div>"
      ],
      "text/plain": [
       "   Play  PlayerLinenumber  Player act scene line\n",
       "0     2              46.0     313   2     3  185\n",
       "1     9               6.0     663   3     2  141\n",
       "2     3              29.0     313   3     6   87\n",
       "3    12               2.0     459   2     1    5\n",
       "4    11              13.0     911   5     4   58"
      ]
     },
     "execution_count": 15,
     "metadata": {},
     "output_type": "execute_result"
    }
   ],
   "source": [
    "from sklearn.utils import shuffle\n",
    "model_data=shuffle(noplayerline_transformed_data).reset_index(drop=True)\n",
    "model_data.head()"
   ]
  },
  {
   "cell_type": "markdown",
   "metadata": {},
   "source": [
    "#### For training model, we need to remove Player Feature for input"
   ]
  },
  {
   "cell_type": "code",
   "execution_count": 16,
   "metadata": {},
   "outputs": [
    {
     "data": {
      "text/html": [
       "<div>\n",
       "<style scoped>\n",
       "    .dataframe tbody tr th:only-of-type {\n",
       "        vertical-align: middle;\n",
       "    }\n",
       "\n",
       "    .dataframe tbody tr th {\n",
       "        vertical-align: top;\n",
       "    }\n",
       "\n",
       "    .dataframe thead th {\n",
       "        text-align: right;\n",
       "    }\n",
       "</style>\n",
       "<table border=\"1\" class=\"dataframe\">\n",
       "  <thead>\n",
       "    <tr style=\"text-align: right;\">\n",
       "      <th></th>\n",
       "      <th>Play</th>\n",
       "      <th>PlayerLinenumber</th>\n",
       "      <th>act</th>\n",
       "      <th>scene</th>\n",
       "      <th>line</th>\n",
       "    </tr>\n",
       "  </thead>\n",
       "  <tbody>\n",
       "    <tr>\n",
       "      <th>0</th>\n",
       "      <td>2</td>\n",
       "      <td>46.0</td>\n",
       "      <td>2</td>\n",
       "      <td>3</td>\n",
       "      <td>185</td>\n",
       "    </tr>\n",
       "    <tr>\n",
       "      <th>1</th>\n",
       "      <td>9</td>\n",
       "      <td>6.0</td>\n",
       "      <td>3</td>\n",
       "      <td>2</td>\n",
       "      <td>141</td>\n",
       "    </tr>\n",
       "    <tr>\n",
       "      <th>2</th>\n",
       "      <td>3</td>\n",
       "      <td>29.0</td>\n",
       "      <td>3</td>\n",
       "      <td>6</td>\n",
       "      <td>87</td>\n",
       "    </tr>\n",
       "    <tr>\n",
       "      <th>3</th>\n",
       "      <td>12</td>\n",
       "      <td>2.0</td>\n",
       "      <td>2</td>\n",
       "      <td>1</td>\n",
       "      <td>5</td>\n",
       "    </tr>\n",
       "    <tr>\n",
       "      <th>4</th>\n",
       "      <td>11</td>\n",
       "      <td>13.0</td>\n",
       "      <td>5</td>\n",
       "      <td>4</td>\n",
       "      <td>58</td>\n",
       "    </tr>\n",
       "  </tbody>\n",
       "</table>\n",
       "</div>"
      ],
      "text/plain": [
       "   Play  PlayerLinenumber act scene line\n",
       "0     2              46.0   2     3  185\n",
       "1     9               6.0   3     2  141\n",
       "2     3              29.0   3     6   87\n",
       "3    12               2.0   2     1    5\n",
       "4    11              13.0   5     4   58"
      ]
     },
     "execution_count": 16,
     "metadata": {},
     "output_type": "execute_result"
    }
   ],
   "source": [
    "X=model_data.drop(['Player'],axis=1)\n",
    "X.head(5)"
   ]
  },
  {
   "cell_type": "markdown",
   "metadata": {},
   "source": [
    "#### For training model, we need to convert Player feature into an array for output"
   ]
  },
  {
   "cell_type": "code",
   "execution_count": 17,
   "metadata": {},
   "outputs": [
    {
     "data": {
      "text/plain": [
       "array([313, 663, 313, ..., 458, 554, 334])"
      ]
     },
     "execution_count": 17,
     "metadata": {},
     "output_type": "execute_result"
    }
   ],
   "source": [
    "y=model_data[['Player']]\n",
    "y=np.ravel(y)\n",
    "y"
   ]
  },
  {
   "cell_type": "markdown",
   "metadata": {},
   "source": [
    "#### Let's use train_test_split function to divide whole dataset for training and testing"
   ]
  },
  {
   "cell_type": "code",
   "execution_count": 18,
   "metadata": {},
   "outputs": [],
   "source": [
    "from sklearn.model_selection import train_test_split\n",
    "X_train, X_test, y_train, y_test = train_test_split(X, y, random_state=5, test_size=0.2)"
   ]
  },
  {
   "cell_type": "markdown",
   "metadata": {},
   "source": [
    "## Decision Tree Classifier\n",
    "- A Decision Tree is a simple representation for classifying "
   ]
  },
  {
   "cell_type": "code",
   "execution_count": 19,
   "metadata": {},
   "outputs": [
    {
     "name": "stdout",
     "output_type": "stream",
     "text": [
      "Accuracy of Decision Tree classifier on training set: 1.00\n",
      "Accuracy of Decision Tree classifier on test set: 0.79\n"
     ]
    }
   ],
   "source": [
    "from sklearn.tree import DecisionTreeClassifier\n",
    "clf = DecisionTreeClassifier().fit(X_train, y_train)\n",
    "\n",
    "print('Accuracy of Decision Tree classifier on training set: {:.2f}'\n",
    "     .format(clf.score(X_train, y_train)))\n",
    "print('Accuracy of Decision Tree classifier on test set: {:.2f}'\n",
    "     .format(clf.score(X_test, y_test)))"
   ]
  },
  {
   "cell_type": "markdown",
   "metadata": {},
   "source": [
    "### An accuracy of 79% is good for test data\n",
    "- Clearly Decision Tree Classifier performed well\n",
    "\n",
    "\n",
    "## K- Nearest Neighbors Classifier"
   ]
  },
  {
   "cell_type": "code",
   "execution_count": 20,
   "metadata": {},
   "outputs": [
    {
     "name": "stdout",
     "output_type": "stream",
     "text": [
      "Accuracy of K-NN classifier on training set: 0.76\n",
      "Accuracy of K-NN classifier on test set: 0.53\n"
     ]
    }
   ],
   "source": [
    "from sklearn.neighbors import KNeighborsClassifier\n",
    "knn = KNeighborsClassifier()\n",
    "knn.fit(X_train, y_train)\n",
    "print('Accuracy of K-NN classifier on training set: {:.2f}'\n",
    "     .format(knn.score(X_train, y_train)))\n",
    "print('Accuracy of K-NN classifier on test set: {:.2f}'\n",
    "     .format(knn.score(X_test, y_test)))"
   ]
  },
  {
   "cell_type": "markdown",
   "metadata": {},
   "source": [
    "### An accuracy of 53% by KNN Classifier is not too bad.\n",
    "\n",
    "## Gaussian Naive Bayes Classifier"
   ]
  },
  {
   "cell_type": "code",
   "execution_count": 21,
   "metadata": {},
   "outputs": [
    {
     "name": "stdout",
     "output_type": "stream",
     "text": [
      "Accuracy of GNB classifier on training set: 0.23\n",
      "Accuracy of GNB classifier on test set: 0.22\n"
     ]
    }
   ],
   "source": [
    "from sklearn.naive_bayes import GaussianNB\n",
    "gnb = GaussianNB()\n",
    "gnb.fit(X_train, y_train)\n",
    "print('Accuracy of GNB classifier on training set: {:.2f}'\n",
    "     .format(gnb.score(X_train, y_train)))\n",
    "print('Accuracy of GNB classifier on test set: {:.2f}'\n",
    "     .format(gnb.score(X_test, y_test)))"
   ]
  },
  {
   "cell_type": "markdown",
   "metadata": {},
   "source": [
    "### Naive Bayes Classifier clearly performed the worst with only 22% accuracy.\n",
    "\n",
    "## Random Forest Classifier"
   ]
  },
  {
   "cell_type": "code",
   "execution_count": 22,
   "metadata": {},
   "outputs": [
    {
     "name": "stdout",
     "output_type": "stream",
     "text": [
      "Accuracy of Random Forest classifier on training set: 1.00\n",
      "Accuracy of Random Forest classifier on test set: 0.82\n"
     ]
    }
   ],
   "source": [
    "from sklearn.ensemble import RandomForestClassifier\n",
    "rfc = RandomForestClassifier(random_state=0)\n",
    "rfc.fit(X_train, y_train)\n",
    "print('Accuracy of Random Forest classifier on training set: {:.2f}'\n",
    "     .format(rfc.score(X_train, y_train)))\n",
    "print('Accuracy of Random Forest classifier on test set: {:.2f}'\n",
    "     .format(rfc.score(X_test, y_test)))"
   ]
  },
  {
   "cell_type": "markdown",
   "metadata": {},
   "source": [
    "### We have the best performing Classification Model-Random Forest Classifier with an accuracy of 82%\n"
   ]
  },
  {
   "cell_type": "markdown",
   "metadata": {},
   "source": [
    "## Conclusions and further improvements:\n",
    "\n",
    "- We could obtain an accuracy of 82% with only a part of Shakespeare plays dataset.\n",
    "- Definitely if we could make proper use of PlayerLine feature, we could greatly improve our Classification models' accuracy.\n",
    "- We can use word cloud, word to Vector, RNN to improve in future."
   ]
  }
 ],
 "metadata": {
  "kernelspec": {
   "display_name": "Python 3",
   "language": "python",
   "name": "python3"
  },
  "language_info": {
   "codemirror_mode": {
    "name": "ipython",
    "version": 3
   },
   "file_extension": ".py",
   "mimetype": "text/x-python",
   "name": "python",
   "nbconvert_exporter": "python",
   "pygments_lexer": "ipython3",
   "version": "3.7.6"
  }
 },
 "nbformat": 4,
 "nbformat_minor": 4
}
